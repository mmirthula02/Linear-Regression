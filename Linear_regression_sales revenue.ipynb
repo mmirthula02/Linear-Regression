{
  "nbformat": 4,
  "nbformat_minor": 0,
  "metadata": {
    "kernelspec": {
      "display_name": "Python 3",
      "language": "python",
      "name": "python3"
    },
    "language_info": {
      "codemirror_mode": {
        "name": "ipython",
        "version": 3
      },
      "file_extension": ".py",
      "mimetype": "text/x-python",
      "name": "python",
      "nbconvert_exporter": "python",
      "pygments_lexer": "ipython3",
      "version": "3.7.3"
    },
    "colab": {
      "name": "Linear regression - Advertisements.ipynb",
      "provenance": []
    }
  },
  "cells": [
    {
      "cell_type": "markdown",
      "metadata": {
        "id": "Ah0YQHKL_jDZ"
      },
      "source": [
        "##**VAC ASSIGNMENT - MACHINE LEARNING WITH PYTHON**\n",
        "\n",
        "### **SIMPLE LINEAR REGRESSION**"
      ]
    },
    {
      "cell_type": "markdown",
      "metadata": {
        "id": "VokWB9YJ_jDe"
      },
      "source": [
        "Linear Regression is a useful tool for predicting a quantitative response."
      ]
    },
    {
      "cell_type": "markdown",
      "metadata": {
        "id": "qSilrYos_jDf"
      },
      "source": [
        "We have an input vector $X^T = (X_1, X_2,...,X_p)$, and want to predict a real-valued output $Y$. The linear regression model has the form"
      ]
    },
    {
      "cell_type": "markdown",
      "metadata": {
        "id": "PPGC5x_H_jDf"
      },
      "source": [
        "<h4 align=\"center\"> $f(x) = \\beta_0 + \\sum_{j=1}^p X_j \\beta_j$. </h4>"
      ]
    },
    {
      "cell_type": "markdown",
      "metadata": {
        "id": "sTpqAT20_jDg"
      },
      "source": [
        "The linear model either assumes that the regression function $E(Y|X)$ is linear, or that the linear model is a reasonable approximation.Here the $\\beta_j$'s are unknown parameters or coefficients, and the variables $X_j$ can come from different sources. No matter the source of $X_j$, the model is linear in the parameters."
      ]
    },
    {
      "cell_type": "markdown",
      "metadata": {
        "id": "nnTsLhlZ_jDg"
      },
      "source": [
        "### Task 1: Loading the Data and Importing Libraries\n",
        "---"
      ]
    },
    {
      "cell_type": "code",
      "metadata": {
        "id": "IyU5pNN-_jDh"
      },
      "source": [
        "import pandas as pd\n",
        "import numpy as np\n",
        "from matplotlib import pyplot as plt\n",
        "%matplotlib inline"
      ],
      "execution_count": null,
      "outputs": []
    },
    {
      "cell_type": "markdown",
      "metadata": {
        "id": "BW1EdSnm_jDi"
      },
      "source": [
        "The adverstiting dataset captures sales revenue generated with respect to advertisement spends across multiple channles like radio, tv and newspaper. "
      ]
    },
    {
      "cell_type": "code",
      "metadata": {
        "id": "uj0U0126_jDi",
        "outputId": "8a3f6208-4f7f-4e00-ae59-14632da73eff"
      },
      "source": [
        "advert=pd.read_csv('Advertising.csv')\n",
        "advert.head()"
      ],
      "execution_count": null,
      "outputs": [
        {
          "data": {
            "text/html": [
              "<div>\n",
              "<style scoped>\n",
              "    .dataframe tbody tr th:only-of-type {\n",
              "        vertical-align: middle;\n",
              "    }\n",
              "\n",
              "    .dataframe tbody tr th {\n",
              "        vertical-align: top;\n",
              "    }\n",
              "\n",
              "    .dataframe thead th {\n",
              "        text-align: right;\n",
              "    }\n",
              "</style>\n",
              "<table border=\"1\" class=\"dataframe\">\n",
              "  <thead>\n",
              "    <tr style=\"text-align: right;\">\n",
              "      <th></th>\n",
              "      <th>Unnamed: 0</th>\n",
              "      <th>TV</th>\n",
              "      <th>radio</th>\n",
              "      <th>newspaper</th>\n",
              "      <th>sales</th>\n",
              "    </tr>\n",
              "  </thead>\n",
              "  <tbody>\n",
              "    <tr>\n",
              "      <th>0</th>\n",
              "      <td>1</td>\n",
              "      <td>230.1</td>\n",
              "      <td>37.8</td>\n",
              "      <td>69.2</td>\n",
              "      <td>22.1</td>\n",
              "    </tr>\n",
              "    <tr>\n",
              "      <th>1</th>\n",
              "      <td>2</td>\n",
              "      <td>44.5</td>\n",
              "      <td>39.3</td>\n",
              "      <td>45.1</td>\n",
              "      <td>10.4</td>\n",
              "    </tr>\n",
              "    <tr>\n",
              "      <th>2</th>\n",
              "      <td>3</td>\n",
              "      <td>17.2</td>\n",
              "      <td>45.9</td>\n",
              "      <td>69.3</td>\n",
              "      <td>9.3</td>\n",
              "    </tr>\n",
              "    <tr>\n",
              "      <th>3</th>\n",
              "      <td>4</td>\n",
              "      <td>151.5</td>\n",
              "      <td>41.3</td>\n",
              "      <td>58.5</td>\n",
              "      <td>18.5</td>\n",
              "    </tr>\n",
              "    <tr>\n",
              "      <th>4</th>\n",
              "      <td>5</td>\n",
              "      <td>180.8</td>\n",
              "      <td>10.8</td>\n",
              "      <td>58.4</td>\n",
              "      <td>12.9</td>\n",
              "    </tr>\n",
              "  </tbody>\n",
              "</table>\n",
              "</div>"
            ],
            "text/plain": [
              "   Unnamed: 0     TV  radio  newspaper  sales\n",
              "0           1  230.1   37.8       69.2   22.1\n",
              "1           2   44.5   39.3       45.1   10.4\n",
              "2           3   17.2   45.9       69.3    9.3\n",
              "3           4  151.5   41.3       58.5   18.5\n",
              "4           5  180.8   10.8       58.4   12.9"
            ]
          },
          "execution_count": 52,
          "metadata": {},
          "output_type": "execute_result"
        }
      ]
    },
    {
      "cell_type": "code",
      "metadata": {
        "id": "g-mBSU_G_jDk",
        "outputId": "1ce042fc-473e-4222-eb38-b8472b837fd8"
      },
      "source": [
        "advert.info()"
      ],
      "execution_count": null,
      "outputs": [
        {
          "name": "stdout",
          "output_type": "stream",
          "text": [
            "<class 'pandas.core.frame.DataFrame'>\n",
            "RangeIndex: 200 entries, 0 to 199\n",
            "Data columns (total 5 columns):\n",
            "Unnamed: 0    200 non-null int64\n",
            "TV            200 non-null float64\n",
            "radio         200 non-null float64\n",
            "newspaper     200 non-null float64\n",
            "sales         200 non-null float64\n",
            "dtypes: float64(4), int64(1)\n",
            "memory usage: 7.9 KB\n"
          ]
        }
      ]
    },
    {
      "cell_type": "markdown",
      "metadata": {
        "id": "9dW6ajjp_jDk"
      },
      "source": [
        "### Task 2: Remove the index column"
      ]
    },
    {
      "cell_type": "code",
      "metadata": {
        "id": "h65w-1qM_jDk",
        "outputId": "a0ffd1b4-20dc-4e83-aac9-f593ebd7ba0e"
      },
      "source": [
        "advert.columns"
      ],
      "execution_count": null,
      "outputs": [
        {
          "data": {
            "text/plain": [
              "Index(['Unnamed: 0', 'TV', 'radio', 'newspaper', 'sales'], dtype='object')"
            ]
          },
          "execution_count": 54,
          "metadata": {},
          "output_type": "execute_result"
        }
      ]
    },
    {
      "cell_type": "code",
      "metadata": {
        "scrolled": true,
        "id": "eXUqPoiK_jDl",
        "outputId": "359bd2b6-b554-404b-cc7f-09df31f409ca"
      },
      "source": [
        "advert.drop(columns=['Unnamed: 0'],axis=1,inplace=True)\n",
        "advert.head() "
      ],
      "execution_count": null,
      "outputs": [
        {
          "data": {
            "text/html": [
              "<div>\n",
              "<style scoped>\n",
              "    .dataframe tbody tr th:only-of-type {\n",
              "        vertical-align: middle;\n",
              "    }\n",
              "\n",
              "    .dataframe tbody tr th {\n",
              "        vertical-align: top;\n",
              "    }\n",
              "\n",
              "    .dataframe thead th {\n",
              "        text-align: right;\n",
              "    }\n",
              "</style>\n",
              "<table border=\"1\" class=\"dataframe\">\n",
              "  <thead>\n",
              "    <tr style=\"text-align: right;\">\n",
              "      <th></th>\n",
              "      <th>TV</th>\n",
              "      <th>radio</th>\n",
              "      <th>newspaper</th>\n",
              "      <th>sales</th>\n",
              "    </tr>\n",
              "  </thead>\n",
              "  <tbody>\n",
              "    <tr>\n",
              "      <th>0</th>\n",
              "      <td>230.1</td>\n",
              "      <td>37.8</td>\n",
              "      <td>69.2</td>\n",
              "      <td>22.1</td>\n",
              "    </tr>\n",
              "    <tr>\n",
              "      <th>1</th>\n",
              "      <td>44.5</td>\n",
              "      <td>39.3</td>\n",
              "      <td>45.1</td>\n",
              "      <td>10.4</td>\n",
              "    </tr>\n",
              "    <tr>\n",
              "      <th>2</th>\n",
              "      <td>17.2</td>\n",
              "      <td>45.9</td>\n",
              "      <td>69.3</td>\n",
              "      <td>9.3</td>\n",
              "    </tr>\n",
              "    <tr>\n",
              "      <th>3</th>\n",
              "      <td>151.5</td>\n",
              "      <td>41.3</td>\n",
              "      <td>58.5</td>\n",
              "      <td>18.5</td>\n",
              "    </tr>\n",
              "    <tr>\n",
              "      <th>4</th>\n",
              "      <td>180.8</td>\n",
              "      <td>10.8</td>\n",
              "      <td>58.4</td>\n",
              "      <td>12.9</td>\n",
              "    </tr>\n",
              "  </tbody>\n",
              "</table>\n",
              "</div>"
            ],
            "text/plain": [
              "      TV  radio  newspaper  sales\n",
              "0  230.1   37.8       69.2   22.1\n",
              "1   44.5   39.3       45.1   10.4\n",
              "2   17.2   45.9       69.3    9.3\n",
              "3  151.5   41.3       58.5   18.5\n",
              "4  180.8   10.8       58.4   12.9"
            ]
          },
          "execution_count": 55,
          "metadata": {},
          "output_type": "execute_result"
        }
      ]
    },
    {
      "cell_type": "markdown",
      "metadata": {
        "id": "QkA7i8LE_jDl"
      },
      "source": [
        " "
      ]
    },
    {
      "cell_type": "markdown",
      "metadata": {
        "id": "c1Xxvo1w_jDl"
      },
      "source": [
        "### Task 3: Exploratory Data Analysis"
      ]
    },
    {
      "cell_type": "code",
      "metadata": {
        "id": "N9amGJAO_jDl",
        "outputId": "79c5ba48-4f8e-41dc-d857-2d9a5a03c92b"
      },
      "source": [
        "import seaborn as sns\n",
        "sns.distplot(advert.sales)"
      ],
      "execution_count": null,
      "outputs": [
        {
          "data": {
            "text/plain": [
              "<matplotlib.axes._subplots.AxesSubplot at 0x7f428b63add8>"
            ]
          },
          "execution_count": 56,
          "metadata": {},
          "output_type": "execute_result"
        },
        {
          "data": {
            "image/png": "[encoded data removed]",
            "text/plain": [
              "<Figure size 432x288 with 1 Axes>"
            ]
          },
          "metadata": {
            "needs_background": "light"
          },
          "output_type": "display_data"
        }
      ]
    },
    {
      "cell_type": "code",
      "metadata": {
        "id": "NyfP3f_0_jDm",
        "outputId": "1ac18e0d-61b6-447f-cb5f-5668fd18d1eb"
      },
      "source": [
        "sns.distplot(advert.newspaper)"
      ],
      "execution_count": null,
      "outputs": [
        {
          "data": {
            "text/plain": [
              "<matplotlib.axes._subplots.AxesSubplot at 0x7f428b5b52b0>"
            ]
          },
          "execution_count": 57,
          "metadata": {},
          "output_type": "execute_result"
        },
        {
          "data": {
            "image/png": "[encoded data removed]",
            "text/plain": [
              "<Figure size 432x288 with 1 Axes>"
            ]
          },
          "metadata": {
            "needs_background": "light"
          },
          "output_type": "display_data"
        }
      ]
    },
    {
      "cell_type": "code",
      "metadata": {
        "id": "9JCdlCdc_jDm",
        "outputId": "e9e39124-e65d-44e4-ac3e-6f3ddcfd722f"
      },
      "source": [
        "sns.distplot(advert.radio)"
      ],
      "execution_count": null,
      "outputs": [
        {
          "data": {
            "text/plain": [
              "<matplotlib.axes._subplots.AxesSubplot at 0x7f428b573f98>"
            ]
          },
          "execution_count": 58,
          "metadata": {},
          "output_type": "execute_result"
        },
        {
          "data": {
            "image/png": "[encoded data removed]",
            "text/plain": [
              "<Figure size 432x288 with 1 Axes>"
            ]
          },
          "metadata": {
            "needs_background": "light"
          },
          "output_type": "display_data"
        }
      ]
    },
    {
      "cell_type": "code",
      "metadata": {
        "id": "9WVKSJhb_jDm",
        "outputId": "89fe0d57-1174-43a5-d086-7930d4925fe4"
      },
      "source": [
        "sns.distplot(advert.TV)"
      ],
      "execution_count": null,
      "outputs": [
        {
          "data": {
            "text/plain": [
              "<matplotlib.axes._subplots.AxesSubplot at 0x7f428b4a4208>"
            ]
          },
          "execution_count": 59,
          "metadata": {},
          "output_type": "execute_result"
        },
        {
          "data": {
            "image/png": "[encoded data removed]",
            "text/plain": [
              "<Figure size 432x288 with 1 Axes>"
            ]
          },
          "metadata": {
            "needs_background": "light"
          },
          "output_type": "display_data"
        }
      ]
    },
    {
      "cell_type": "markdown",
      "metadata": {
        "id": "Kp6khCmb_jDn"
      },
      "source": [
        "### Task 4: Exploring Relationships between Predictors and Response"
      ]
    },
    {
      "cell_type": "code",
      "metadata": {
        "id": "VsKOiRU2_jDn",
        "outputId": "d95facf5-e246-4b21-d805-bf52ed75a257"
      },
      "source": [
        "sns.pairplot(advert,x_vars=['TV','radio','newspaper'],y_vars='sales',height=7,aspect=0.7,\n",
        "            kind='reg')"
      ],
      "execution_count": null,
      "outputs": [
        {
          "data": {
            "text/plain": [
              "<seaborn.axisgrid.PairGrid at 0x7f428b53d3c8>"
            ]
          },
          "execution_count": 60,
          "metadata": {},
          "output_type": "execute_result"
        },
        {
          "data": {
            "image/png": "[encoded data removed]",
            "text/plain": [
              "<Figure size 1058.4x504 with 3 Axes>"
            ]
          },
          "metadata": {
            "needs_background": "light"
          },
          "output_type": "display_data"
        }
      ]
    },
    {
      "cell_type": "code",
      "metadata": {
        "id": "tqhrp1Fg_jDo",
        "outputId": "8a4d4609-b863-4586-bd19-5f9f10ba3c78"
      },
      "source": [
        "advert.TV.corr(advert.sales)"
      ],
      "execution_count": null,
      "outputs": [
        {
          "data": {
            "text/plain": [
              "0.7822244248616061"
            ]
          },
          "execution_count": 61,
          "metadata": {},
          "output_type": "execute_result"
        }
      ]
    },
    {
      "cell_type": "code",
      "metadata": {
        "id": "LarkJ8yX_jDo",
        "outputId": "1b87f6d5-224e-4841-9938-f606a31ac355"
      },
      "source": [
        "advert.corr()"
      ],
      "execution_count": null,
      "outputs": [
        {
          "data": {
            "text/html": [
              "<div>\n",
              "<style scoped>\n",
              "    .dataframe tbody tr th:only-of-type {\n",
              "        vertical-align: middle;\n",
              "    }\n",
              "\n",
              "    .dataframe tbody tr th {\n",
              "        vertical-align: top;\n",
              "    }\n",
              "\n",
              "    .dataframe thead th {\n",
              "        text-align: right;\n",
              "    }\n",
              "</style>\n",
              "<table border=\"1\" class=\"dataframe\">\n",
              "  <thead>\n",
              "    <tr style=\"text-align: right;\">\n",
              "      <th></th>\n",
              "      <th>TV</th>\n",
              "      <th>radio</th>\n",
              "      <th>newspaper</th>\n",
              "      <th>sales</th>\n",
              "    </tr>\n",
              "  </thead>\n",
              "  <tbody>\n",
              "    <tr>\n",
              "      <th>TV</th>\n",
              "      <td>1.000000</td>\n",
              "      <td>0.054809</td>\n",
              "      <td>0.056648</td>\n",
              "      <td>0.782224</td>\n",
              "    </tr>\n",
              "    <tr>\n",
              "      <th>radio</th>\n",
              "      <td>0.054809</td>\n",
              "      <td>1.000000</td>\n",
              "      <td>0.354104</td>\n",
              "      <td>0.576223</td>\n",
              "    </tr>\n",
              "    <tr>\n",
              "      <th>newspaper</th>\n",
              "      <td>0.056648</td>\n",
              "      <td>0.354104</td>\n",
              "      <td>1.000000</td>\n",
              "      <td>0.228299</td>\n",
              "    </tr>\n",
              "    <tr>\n",
              "      <th>sales</th>\n",
              "      <td>0.782224</td>\n",
              "      <td>0.576223</td>\n",
              "      <td>0.228299</td>\n",
              "      <td>1.000000</td>\n",
              "    </tr>\n",
              "  </tbody>\n",
              "</table>\n",
              "</div>"
            ],
            "text/plain": [
              "                 TV     radio  newspaper     sales\n",
              "TV         1.000000  0.054809   0.056648  0.782224\n",
              "radio      0.054809  1.000000   0.354104  0.576223\n",
              "newspaper  0.056648  0.354104   1.000000  0.228299\n",
              "sales      0.782224  0.576223   0.228299  1.000000"
            ]
          },
          "execution_count": 62,
          "metadata": {},
          "output_type": "execute_result"
        }
      ]
    },
    {
      "cell_type": "code",
      "metadata": {
        "id": "GxXvZWh3_jDo",
        "outputId": "1dea8d43-9193-441d-c2e0-01a9b8b8c466"
      },
      "source": [
        "sns.heatmap(advert.corr(),annot=True)"
      ],
      "execution_count": null,
      "outputs": [
        {
          "data": {
            "text/plain": [
              "<matplotlib.axes._subplots.AxesSubplot at 0x7f428b1646a0>"
            ]
          },
          "execution_count": 63,
          "metadata": {},
          "output_type": "execute_result"
        },
        {
          "data": {
            "image/png": "[encoded data removed]",
            "text/plain": [
              "<Figure size 432x288 with 2 Axes>"
            ]
          },
          "metadata": {
            "needs_background": "light"
          },
          "output_type": "display_data"
        }
      ]
    },
    {
      "cell_type": "markdown",
      "metadata": {
        "id": "0DB3-98N_jDo"
      },
      "source": [
        "### Task 5: Creating the Simple Linear Regression Model"
      ]
    },
    {
      "cell_type": "markdown",
      "metadata": {
        "id": "QeRzaV82_jDo"
      },
      "source": [
        "General linear regression model:\n",
        "$y=\\beta_{0}+\\beta_{1}x_{1}+\\beta_{2}x_{2}+...+\\beta_{n}x_{n}$\n",
        "\n",
        "- $y$  is the response\n",
        "- $\\beta_{0}$ is the intercept\n",
        "- $\\beta_{1}$ is the coefficient for  x1  (the first feature)\n",
        "- $\\beta_{n}$ is the coefficient for  xn  (the nth feature)\n",
        "\n",
        "In our case: $y=\\beta_{0}+\\beta_{1}×TV+\\beta_{2}×Radio+\\beta_{3}×Newspaper$\n",
        "\n",
        "The $\\beta$ values are called the **model coefficients*:\n",
        "\n",
        "- These values are \"learned\" during the model fitting step using the \"least squares\" criterion\n",
        "- The fitted model is then used to make predictions"
      ]
    },
    {
      "cell_type": "code",
      "metadata": {
        "id": "y2QpDYbu_jDp",
        "outputId": "84316fa0-ffa2-4aef-9a74-245cf92cf189"
      },
      "source": [
        "X=advert[['TV']]\n",
        "X.head()"
      ],
      "execution_count": null,
      "outputs": [
        {
          "data": {
            "text/html": [
              "<div>\n",
              "<style scoped>\n",
              "    .dataframe tbody tr th:only-of-type {\n",
              "        vertical-align: middle;\n",
              "    }\n",
              "\n",
              "    .dataframe tbody tr th {\n",
              "        vertical-align: top;\n",
              "    }\n",
              "\n",
              "    .dataframe thead th {\n",
              "        text-align: right;\n",
              "    }\n",
              "</style>\n",
              "<table border=\"1\" class=\"dataframe\">\n",
              "  <thead>\n",
              "    <tr style=\"text-align: right;\">\n",
              "      <th></th>\n",
              "      <th>TV</th>\n",
              "    </tr>\n",
              "  </thead>\n",
              "  <tbody>\n",
              "    <tr>\n",
              "      <th>0</th>\n",
              "      <td>230.1</td>\n",
              "    </tr>\n",
              "    <tr>\n",
              "      <th>1</th>\n",
              "      <td>44.5</td>\n",
              "    </tr>\n",
              "    <tr>\n",
              "      <th>2</th>\n",
              "      <td>17.2</td>\n",
              "    </tr>\n",
              "    <tr>\n",
              "      <th>3</th>\n",
              "      <td>151.5</td>\n",
              "    </tr>\n",
              "    <tr>\n",
              "      <th>4</th>\n",
              "      <td>180.8</td>\n",
              "    </tr>\n",
              "  </tbody>\n",
              "</table>\n",
              "</div>"
            ],
            "text/plain": [
              "      TV\n",
              "0  230.1\n",
              "1   44.5\n",
              "2   17.2\n",
              "3  151.5\n",
              "4  180.8"
            ]
          },
          "execution_count": 64,
          "metadata": {},
          "output_type": "execute_result"
        }
      ]
    },
    {
      "cell_type": "code",
      "metadata": {
        "id": "spWwn28x_jDp",
        "outputId": "1edfa285-da26-4ef9-dc47-36d530d108f9"
      },
      "source": [
        "print(type(X))\n",
        "print(X.shape)"
      ],
      "execution_count": null,
      "outputs": [
        {
          "name": "stdout",
          "output_type": "stream",
          "text": [
            "<class 'pandas.core.frame.DataFrame'>\n",
            "(200, 1)\n"
          ]
        }
      ]
    },
    {
      "cell_type": "code",
      "metadata": {
        "id": "xV3vSCKz_jDp",
        "outputId": "22555709-aed7-46b4-96f9-383da44bbef6"
      },
      "source": [
        "y=advert.sales\n",
        "print(type(y))"
      ],
      "execution_count": null,
      "outputs": [
        {
          "name": "stdout",
          "output_type": "stream",
          "text": [
            "<class 'pandas.core.series.Series'>\n"
          ]
        }
      ]
    },
    {
      "cell_type": "code",
      "metadata": {
        "id": "EViAb5lf_jDp"
      },
      "source": [
        "from sklearn.model_selection import train_test_split\n",
        "\n",
        "X_train,X_test,y_train,y_test=train_test_split(X,y,random_state=1)"
      ],
      "execution_count": null,
      "outputs": []
    },
    {
      "cell_type": "code",
      "metadata": {
        "id": "YvvicwvI_jDp",
        "outputId": "21134190-f42e-48dd-8ccb-493ac3b0f91e"
      },
      "source": [
        "print(X_train.shape)\n",
        "print(X_test.shape)\n",
        "print(X_train.shape)\n",
        "print(X_test.shape)"
      ],
      "execution_count": null,
      "outputs": [
        {
          "name": "stdout",
          "output_type": "stream",
          "text": [
            "(150, 1)\n",
            "(50, 1)\n",
            "(150, 1)\n",
            "(50, 1)\n"
          ]
        }
      ]
    },
    {
      "cell_type": "code",
      "metadata": {
        "id": "X7oclgC4_jDq",
        "outputId": "b533322d-4183-4308-aba1-334c0023bc6f"
      },
      "source": [
        "from sklearn.linear_model import LinearRegression\n",
        "\n",
        "linreg=LinearRegression()\n",
        "linreg.fit(X_train,y_train)"
      ],
      "execution_count": null,
      "outputs": [
        {
          "data": {
            "text/plain": [
              "LinearRegression(copy_X=True, fit_intercept=True, n_jobs=None,\n",
              "         normalize=False)"
            ]
          },
          "execution_count": 69,
          "metadata": {},
          "output_type": "execute_result"
        }
      ]
    },
    {
      "cell_type": "code",
      "metadata": {
        "id": "ygE9ehyn_jDq"
      },
      "source": [
        ""
      ],
      "execution_count": null,
      "outputs": []
    },
    {
      "cell_type": "markdown",
      "metadata": {
        "id": "eI6oRr18_jDq"
      },
      "source": [
        " "
      ]
    },
    {
      "cell_type": "markdown",
      "metadata": {
        "id": "iHa1507o_jDq"
      },
      "source": [
        " "
      ]
    },
    {
      "cell_type": "markdown",
      "metadata": {
        "id": "tQJTZ8XE_jDq"
      },
      "source": [
        "### Task 6: Interpreting Model Coefficients"
      ]
    },
    {
      "cell_type": "code",
      "metadata": {
        "id": "_RrDdzP3_jDq",
        "outputId": "c4fa00c6-39b2-4d1b-9713-af2d571add6f"
      },
      "source": [
        "print(linreg.intercept_)\n"
      ],
      "execution_count": null,
      "outputs": [
        {
          "name": "stdout",
          "output_type": "stream",
          "text": [
            "6.91197261886872\n"
          ]
        }
      ]
    },
    {
      "cell_type": "code",
      "metadata": {
        "id": "KV6W11v2_jDq",
        "outputId": "6da2eef4-b561-4ae7-9b1f-0b9de494ae5e"
      },
      "source": [
        "print(linreg.coef_)"
      ],
      "execution_count": null,
      "outputs": [
        {
          "name": "stdout",
          "output_type": "stream",
          "text": [
            "[0.04802945]\n"
          ]
        }
      ]
    },
    {
      "cell_type": "markdown",
      "metadata": {
        "id": "EJNNdbqH_jDr"
      },
      "source": [
        "### Task 7: Making Predictions with our Model"
      ]
    },
    {
      "cell_type": "code",
      "metadata": {
        "id": "PWRaZZIS_jDr"
      },
      "source": [
        "y_pred=linreg.predict( X_test)"
      ],
      "execution_count": null,
      "outputs": []
    },
    {
      "cell_type": "code",
      "metadata": {
        "id": "-nHGt6M0_jDr",
        "outputId": "cf69b145-d085-4275-92bc-a3cdbf05b779"
      },
      "source": [
        "y_pred[:5]"
      ],
      "execution_count": null,
      "outputs": [
        {
          "data": {
            "text/plain": [
              "array([17.03658069, 16.63793625, 11.50839099, 20.36982452, 19.10184704])"
            ]
          },
          "execution_count": 73,
          "metadata": {},
          "output_type": "execute_result"
        }
      ]
    },
    {
      "cell_type": "code",
      "metadata": {
        "id": "Gm_DiihF_jDr",
        "outputId": "54e0039f-f731-4695-abc3-1d07c5fadea1"
      },
      "source": [
        "df=pd.DataFrame({'Actual':y_test,\"Predicted\":y_pred})\n",
        "print(df)"
      ],
      "execution_count": null,
      "outputs": [
        {
          "name": "stdout",
          "output_type": "stream",
          "text": [
            "     Actual  Predicted\n",
            "58     23.8  17.036581\n",
            "40     16.6  16.637936\n",
            "34      9.5  11.508391\n",
            "102    14.8  20.369825\n",
            "184    17.6  19.101847\n",
            "198    25.5  20.533125\n",
            "95     16.9  14.755182\n",
            "4      12.9  15.595697\n",
            "29     10.5  10.302852\n",
            "168    17.1  17.257516\n",
            "171    14.5  14.812817\n",
            "18     11.3  10.235611\n",
            "11     17.4  17.223896\n",
            "89     16.7  12.185606\n",
            "110    13.4  17.757022\n",
            "118    15.9  12.949274\n",
            "159    12.9  13.237451\n",
            "35     12.8  20.874134\n",
            "136     9.5   8.141527\n",
            "59     18.4  17.031778\n",
            "51     10.7  11.734129\n",
            "16     12.5  10.168369\n",
            "44      8.5   8.117512\n",
            "94     11.5  12.070336\n",
            "31     11.9  12.334498\n",
            "162    14.9  15.960721\n",
            "38     10.1   8.982042\n",
            "28     18.9  18.861700\n",
            "193    19.6  14.923285\n",
            "27     15.9  18.443844\n",
            "47     23.2  18.434238\n",
            "165    11.9  18.174879\n",
            "194    17.3  14.101981\n",
            "177    11.7  15.086585\n",
            "176    20.2  18.842488\n",
            "97     15.5  15.792618\n",
            "174    11.5  17.593722\n",
            "73     11.0  13.126983\n",
            "69     22.3  17.324757\n",
            "172     7.6   7.853350\n",
            "108     5.3   7.541158\n",
            "107     8.7  11.253835\n",
            "189     6.7   7.810123\n",
            "14     19.0  16.714783\n",
            "56      5.5   7.262588\n",
            "19     14.6  13.986711\n",
            "114    14.6  10.667876\n",
            "39     21.5  17.862687\n",
            "185    22.6  16.758010\n",
            "124    19.7  17.934731\n"
          ]
        }
      ]
    },
    {
      "cell_type": "code",
      "metadata": {
        "id": "PxWBQAC7_jDr",
        "outputId": "a95476c8-5046-488b-fffa-f740e345c55b"
      },
      "source": [
        "plt.scatter(X_test,y_test,color='grey')\n",
        "plt.plot(X_test,y_pred,color='red',linewidth=2)\n",
        "plt.show()"
      ],
      "execution_count": null,
      "outputs": [
        {
          "data": {
            "image/png": "[encoded data removed]",
            "text/plain": [
              "<Figure size 432x288 with 1 Axes>"
            ]
          },
          "metadata": {
            "needs_background": "light"
          },
          "output_type": "display_data"
        }
      ]
    },
    {
      "cell_type": "markdown",
      "metadata": {
        "id": "01hXJeyG_jDr"
      },
      "source": [
        "### Task 8: Model Evaluation Metrics"
      ]
    },
    {
      "cell_type": "code",
      "metadata": {
        "id": "vUbsKhFh_jDs"
      },
      "source": [
        "true=[100,50,30,20]\n",
        "pred=[90,50,50,30]"
      ],
      "execution_count": null,
      "outputs": []
    },
    {
      "cell_type": "markdown",
      "metadata": {
        "id": "eIbl0gR-_jDs"
      },
      "source": [
        "**Mean Absolute Error** (MAE) is the mean of the absolute value of the errors:;\n",
        "$$ \\frac{1}{n} \\sum_{i=1}^{n} \\left |y_i - \\hat{y}_i \\right |$$"
      ]
    },
    {
      "cell_type": "code",
      "metadata": {
        "id": "tP5aFS9s_jDs",
        "outputId": "38680d2d-a2a0-41ec-e2f3-7129cba07e4d"
      },
      "source": [
        "print((10+0+20+10)/4)\n",
        "from sklearn import metrics\n",
        "print(metrics.mean_absolute_error(true,pred))"
      ],
      "execution_count": null,
      "outputs": [
        {
          "name": "stdout",
          "output_type": "stream",
          "text": [
            "10.0\n",
            "10.0\n"
          ]
        }
      ]
    },
    {
      "cell_type": "markdown",
      "metadata": {
        "id": "XiNl_gM9_jDs"
      },
      "source": [
        "**Mean Squared Error** (MSE) is the mean of the squared errors:\n",
        "$$\\frac{1}{n} \\sum_{i=1}^{n} (y_i - \\hat{y}_i)^2$$"
      ]
    },
    {
      "cell_type": "code",
      "metadata": {
        "id": "bA0HZUvm_jDs",
        "outputId": "13e396b7-baa3-4c1f-940f-265805b9cce0"
      },
      "source": [
        "mse=metrics.mean_squared_error(true,pred)\n",
        "print(mse)"
      ],
      "execution_count": null,
      "outputs": [
        {
          "name": "stdout",
          "output_type": "stream",
          "text": [
            "150.0\n"
          ]
        }
      ]
    },
    {
      "cell_type": "markdown",
      "metadata": {
        "id": "Ct-lt04D_jDs"
      },
      "source": [
        "**Root Mean Squared Error** (RMSE) is the square root of the mean of the squared errors:\n",
        "$$\\sqrt{\\frac{1}{n} \\sum_{i=1}^{n} (y_i - \\hat{y}_i)^2}$$"
      ]
    },
    {
      "cell_type": "code",
      "metadata": {
        "id": "AURc9vF6_jDt",
        "outputId": "aa410f3a-e68e-4f52-c649-964c01a01640"
      },
      "source": [
        "rmse=np.sqrt(mse)\n",
        "print(rmse)"
      ],
      "execution_count": null,
      "outputs": [
        {
          "name": "stdout",
          "output_type": "stream",
          "text": [
            "12.24744871391589\n"
          ]
        }
      ]
    },
    {
      "cell_type": "code",
      "metadata": {
        "id": "lm9mjDsw_jDt",
        "outputId": "31ef7b46-a582-4869-df63-e8b81815892f"
      },
      "source": [
        "print(np.sqrt(metrics.mean_squared_error(y_test,y_pred)))"
      ],
      "execution_count": null,
      "outputs": [
        {
          "name": "stdout",
          "output_type": "stream",
          "text": [
            "3.210929707703542\n"
          ]
        }
      ]
    },
    {
      "cell_type": "code",
      "metadata": {
        "id": "RlgwEc38_jDt"
      },
      "source": [
        ""
      ],
      "execution_count": null,
      "outputs": []
    }
  ]
}